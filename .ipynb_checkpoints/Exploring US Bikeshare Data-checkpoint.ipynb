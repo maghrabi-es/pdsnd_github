{
 "cells": [
  {
   "cell_type": "code",
   "execution_count": 2,
   "id": "52bf8f83",
   "metadata": {},
   "outputs": [],
   "source": [
    "import pandas as pd\n",
    "import time\n",
    "import numpy as py"
   ]
  },
  {
   "cell_type": "code",
   "execution_count": 3,
   "id": "e02372f9",
   "metadata": {},
   "outputs": [],
   "source": [
    "df= pd.read_csv(\"chicago.csv\")"
   ]
  },
  {
   "cell_type": "code",
   "execution_count": 4,
   "id": "a75d9e16",
   "metadata": {},
   "outputs": [
    {
     "name": "stdout",
     "output_type": "stream",
     "text": [
      "   Unnamed: 0           Start Time             End Time  Trip Duration  \\\n",
      "0     1423854  2017-06-23 15:09:32  2017-06-23 15:14:53            321   \n",
      "1      955915  2017-05-25 18:19:03  2017-05-25 18:45:53           1610   \n",
      "2        9031  2017-01-04 08:27:49  2017-01-04 08:34:45            416   \n",
      "3      304487  2017-03-06 13:49:38  2017-03-06 13:55:28            350   \n",
      "4       45207  2017-01-17 14:53:07  2017-01-17 15:02:01            534   \n",
      "\n",
      "                   Start Station                   End Station   User Type  \\\n",
      "0           Wood St & Hubbard St       Damen Ave & Chicago Ave  Subscriber   \n",
      "1            Theater on the Lake  Sheffield Ave & Waveland Ave  Subscriber   \n",
      "2             May St & Taylor St           Wood St & Taylor St  Subscriber   \n",
      "3  Christiana Ave & Lawrence Ave  St. Louis Ave & Balmoral Ave  Subscriber   \n",
      "4         Clark St & Randolph St  Desplaines St & Jackson Blvd  Subscriber   \n",
      "\n",
      "   Gender  Birth Year  \n",
      "0    Male      1992.0  \n",
      "1  Female      1992.0  \n",
      "2    Male      1981.0  \n",
      "3    Male      1986.0  \n",
      "4    Male      1975.0  \n"
     ]
    }
   ],
   "source": [
    "print(df.head())"
   ]
  },
  {
   "cell_type": "code",
   "execution_count": 5,
   "id": "e26476c8",
   "metadata": {},
   "outputs": [
    {
     "data": {
      "text/plain": [
       "(300000, 9)"
      ]
     },
     "execution_count": 5,
     "metadata": {},
     "output_type": "execute_result"
    }
   ],
   "source": [
    "df.shape"
   ]
  },
  {
   "cell_type": "code",
   "execution_count": 6,
   "id": "bead659b",
   "metadata": {},
   "outputs": [
    {
     "data": {
      "text/plain": [
       "Index(['Unnamed: 0', 'Start Time', 'End Time', 'Trip Duration',\n",
       "       'Start Station', 'End Station', 'User Type', 'Gender', 'Birth Year'],\n",
       "      dtype='object')"
      ]
     },
     "execution_count": 6,
     "metadata": {},
     "output_type": "execute_result"
    }
   ],
   "source": [
    "df.columns"
   ]
  },
  {
   "cell_type": "code",
   "execution_count": 7,
   "id": "ea9a98bc",
   "metadata": {},
   "outputs": [
    {
     "name": "stdout",
     "output_type": "stream",
     "text": [
      "<class 'pandas.core.frame.DataFrame'>\n",
      "RangeIndex: 300000 entries, 0 to 299999\n",
      "Data columns (total 9 columns):\n",
      " #   Column         Non-Null Count   Dtype  \n",
      "---  ------         --------------   -----  \n",
      " 0   Unnamed: 0     300000 non-null  int64  \n",
      " 1   Start Time     300000 non-null  object \n",
      " 2   End Time       300000 non-null  object \n",
      " 3   Trip Duration  300000 non-null  int64  \n",
      " 4   Start Station  300000 non-null  object \n",
      " 5   End Station    300000 non-null  object \n",
      " 6   User Type      300000 non-null  object \n",
      " 7   Gender         238948 non-null  object \n",
      " 8   Birth Year     238981 non-null  float64\n",
      "dtypes: float64(1), int64(2), object(6)\n",
      "memory usage: 20.6+ MB\n"
     ]
    }
   ],
   "source": [
    "df.info()"
   ]
  },
  {
   "cell_type": "code",
   "execution_count": 8,
   "id": "b86db17a",
   "metadata": {},
   "outputs": [
    {
     "data": {
      "text/plain": [
       "0"
      ]
     },
     "execution_count": 8,
     "metadata": {},
     "output_type": "execute_result"
    }
   ],
   "source": [
    "df.duplicated().sum()"
   ]
  },
  {
   "cell_type": "code",
   "execution_count": 9,
   "id": "a365dc80",
   "metadata": {},
   "outputs": [
    {
     "data": {
      "text/plain": [
       "Unnamed: 0           0\n",
       "Start Time           0\n",
       "End Time             0\n",
       "Trip Duration        0\n",
       "Start Station        0\n",
       "End Station          0\n",
       "User Type            0\n",
       "Gender           61052\n",
       "Birth Year       61019\n",
       "dtype: int64"
      ]
     },
     "execution_count": 9,
     "metadata": {},
     "output_type": "execute_result"
    }
   ],
   "source": [
    "df.isnull().sum()"
   ]
  },
  {
   "cell_type": "code",
   "execution_count": 10,
   "id": "d9ffbbf0",
   "metadata": {},
   "outputs": [
    {
     "data": {
      "text/html": [
       "<div>\n",
       "<style scoped>\n",
       "    .dataframe tbody tr th:only-of-type {\n",
       "        vertical-align: middle;\n",
       "    }\n",
       "\n",
       "    .dataframe tbody tr th {\n",
       "        vertical-align: top;\n",
       "    }\n",
       "\n",
       "    .dataframe thead th {\n",
       "        text-align: right;\n",
       "    }\n",
       "</style>\n",
       "<table border=\"1\" class=\"dataframe\">\n",
       "  <thead>\n",
       "    <tr style=\"text-align: right;\">\n",
       "      <th></th>\n",
       "      <th>Unnamed: 0</th>\n",
       "      <th>Trip Duration</th>\n",
       "      <th>Birth Year</th>\n",
       "    </tr>\n",
       "  </thead>\n",
       "  <tbody>\n",
       "    <tr>\n",
       "      <th>count</th>\n",
       "      <td>3.000000e+05</td>\n",
       "      <td>300000.000000</td>\n",
       "      <td>238981.000000</td>\n",
       "    </tr>\n",
       "    <tr>\n",
       "      <th>mean</th>\n",
       "      <td>7.763458e+05</td>\n",
       "      <td>936.239290</td>\n",
       "      <td>1980.858223</td>\n",
       "    </tr>\n",
       "    <tr>\n",
       "      <th>std</th>\n",
       "      <td>4.481464e+05</td>\n",
       "      <td>1548.792767</td>\n",
       "      <td>11.003329</td>\n",
       "    </tr>\n",
       "    <tr>\n",
       "      <th>min</th>\n",
       "      <td>4.000000e+00</td>\n",
       "      <td>60.000000</td>\n",
       "      <td>1899.000000</td>\n",
       "    </tr>\n",
       "    <tr>\n",
       "      <th>25%</th>\n",
       "      <td>3.871368e+05</td>\n",
       "      <td>393.000000</td>\n",
       "      <td>1975.000000</td>\n",
       "    </tr>\n",
       "    <tr>\n",
       "      <th>50%</th>\n",
       "      <td>7.771035e+05</td>\n",
       "      <td>670.000000</td>\n",
       "      <td>1984.000000</td>\n",
       "    </tr>\n",
       "    <tr>\n",
       "      <th>75%</th>\n",
       "      <td>1.164065e+06</td>\n",
       "      <td>1125.000000</td>\n",
       "      <td>1989.000000</td>\n",
       "    </tr>\n",
       "    <tr>\n",
       "      <th>max</th>\n",
       "      <td>1.551500e+06</td>\n",
       "      <td>86224.000000</td>\n",
       "      <td>2016.000000</td>\n",
       "    </tr>\n",
       "  </tbody>\n",
       "</table>\n",
       "</div>"
      ],
      "text/plain": [
       "         Unnamed: 0  Trip Duration     Birth Year\n",
       "count  3.000000e+05  300000.000000  238981.000000\n",
       "mean   7.763458e+05     936.239290    1980.858223\n",
       "std    4.481464e+05    1548.792767      11.003329\n",
       "min    4.000000e+00      60.000000    1899.000000\n",
       "25%    3.871368e+05     393.000000    1975.000000\n",
       "50%    7.771035e+05     670.000000    1984.000000\n",
       "75%    1.164065e+06    1125.000000    1989.000000\n",
       "max    1.551500e+06   86224.000000    2016.000000"
      ]
     },
     "execution_count": 10,
     "metadata": {},
     "output_type": "execute_result"
    }
   ],
   "source": [
    "df.describe()"
   ]
  },
  {
   "cell_type": "code",
   "execution_count": 11,
   "id": "db5c58ec",
   "metadata": {},
   "outputs": [
    {
     "data": {
      "text/plain": [
       "Subscriber    238889\n",
       "Customer       61110\n",
       "Dependent          1\n",
       "Name: User Type, dtype: int64"
      ]
     },
     "execution_count": 11,
     "metadata": {},
     "output_type": "execute_result"
    }
   ],
   "source": [
    "df['User Type'].value_counts()"
   ]
  },
  {
   "cell_type": "code",
   "execution_count": 12,
   "id": "ab412b18",
   "metadata": {},
   "outputs": [
    {
     "data": {
      "text/plain": [
       "array(['Subscriber', 'Customer', 'Dependent'], dtype=object)"
      ]
     },
     "execution_count": 12,
     "metadata": {},
     "output_type": "execute_result"
    }
   ],
   "source": [
    "df['User Type'].unique()"
   ]
  },
  {
   "cell_type": "code",
   "execution_count": 13,
   "id": "c581afc7",
   "metadata": {},
   "outputs": [],
   "source": [
    "city_D={'chicago':'chicago.csv',\n",
    "       'new york city': 'new_york_city.csv',\n",
    "       'washington':'washington.csv'}"
   ]
  },
  {
   "cell_type": "code",
   "execution_count": 14,
   "id": "67ab0595",
   "metadata": {},
   "outputs": [],
   "source": [
    "month_l=['january','february','march','april','may','june','all']\n",
    "weekday_l=['sunday','monday','tuesday','wednesday','thursday','friday','satrurday','all']"
   ]
  },
  {
   "cell_type": "code",
   "execution_count": 15,
   "id": "b2c8565a",
   "metadata": {},
   "outputs": [],
   "source": [
    "def get_filters():\n",
    "    print('hi let\\'s explore some US bikeshare data!')\n",
    "    city= check_userInput('would you like to see the data for chicago, new york city or washington?\\n','c')\n",
    "    month=check_userInput(\"For filtering data by specific month please enter month name from (january,february, march, april, may ,june) otherwise enter 'all'\\n \",'m')\n",
    "    day=check_userInput(\"For filtering data by specific day please enter day name from ('sunday','monday','tuesday','wednesday','thursday','friday','satrurday') otherwise enter 'all'\\n \",'d')\n",
    "    print('-'*40)\n",
    "    return city,month,day"
   ]
  },
  {
   "cell_type": "code",
   "execution_count": 16,
   "id": "7f4f92db",
   "metadata": {},
   "outputs": [],
   "source": [
    "def check_userInput(user_input,input_type):\n",
    "    while True:\n",
    "            input_user_entered=input(user_input).lower()\n",
    "            try:\n",
    "                if input_user_entered in ['chicago','new york city','washington'] and input_type == 'c':\n",
    "                    break\n",
    "                elif input_user_entered in month_l and input_type == 'm':\n",
    "                    break\n",
    "                elif input_user_entered in weekday_l and input_type == 'd':\n",
    "                    break\n",
    "                else:\n",
    "                    if input_type == 'c':\n",
    "                        print(\"invalid input!,input must be : chicago, new york city or washington\")\n",
    "                    if input_type == 'm':\n",
    "                        print(\"invalid input!,input must be :january,february, march, april, may ,june or all\")\n",
    "                    if input_type == 'd':\n",
    "                        print(\"invalid input!,input must be :'sunday',...,'friday','satrurday'or all\")\n",
    "            except ValueError:\n",
    "                print(\"sorry,your input is wrong\")\n",
    "    return input_user_entered\n",
    "                    "
   ]
  },
  {
   "cell_type": "code",
   "execution_count": 17,
   "id": "3032bf83",
   "metadata": {},
   "outputs": [],
   "source": [
    "def load_data(city,month,day):\n",
    "    df = pd.read_csv(city_D[city])\n",
    "    df['Start Time']=pd.to_datetime(df['Start Time'])\n",
    "    df['month']=df['Start Time'].dt.month\n",
    "    df['day_of_week']=df['Start Time'].dt.day_name()\n",
    "    df['hour']=df['Start Time'].dt.hour\n",
    "    \n",
    "    \n",
    "    if month != 'all':\n",
    "        months = ['january','february','march','april','may','june']\n",
    "        month = months.index(month) + 1\n",
    "        \n",
    "        df=df[df['month']== month]\n",
    "        \n",
    "    if day != 'all':\n",
    "       df=df[df['day_of_week'] == day.title()]\n",
    "    \n",
    "    return df"
   ]
  },
  {
   "cell_type": "code",
   "execution_count": 18,
   "id": "259a43aa",
   "metadata": {},
   "outputs": [],
   "source": [
    "def time_stats(df):\n",
    "        print('\\nCalculating the most frequent time of travel..\\n')\n",
    "        start_t=time.time()\n",
    "    \n",
    "        most_c_month=df['month'].mode()[0]\n",
    "        print('most common month is', most_c_month)\n",
    "        most_c_day=df['day_of_week'].mode()[0]\n",
    "        print('most common day of week is', most_c_day)\n",
    "    \n",
    "        most_c_hour=df['hour'].mode()[0]\n",
    "        print('most common hour of day is', most_c_hour)\n",
    "    \n",
    "        print(\"\\nthis took %s seconds.\"% (time.time() - start_t))\n",
    "        print('_'*40)"
   ]
  },
  {
   "cell_type": "code",
   "execution_count": 19,
   "id": "b2de6aa2",
   "metadata": {},
   "outputs": [],
   "source": [
    "def station_stats(df):\n",
    "    print('\\nCalculating the most popular stations and trip..\\n')\n",
    "    start_t=time.time()\n",
    "    \n",
    "    most_c_start_sta=df['Start Station'].mode()[0]\n",
    "    print('most common start station is', most_c_start_sta)\n",
    "    most_c_end_sta=df['End Station'].mode()[0]\n",
    "    print('most common end station is', most_c_end_sta)\n",
    "    \n",
    "    combination_g=df.groupby(['Start Station','End Station'])\n",
    "    most_f_combination_s = combination_g.size().sort_values(ascending=False).head(1)\n",
    "    print('most frequent combination of start station trip is :',most_f_combination_s)\n",
    "    print(\"\\nthis took %s seconds.\"% (time.time() - start_t))\n",
    "    print('_'*40)"
   ]
  },
  {
   "cell_type": "code",
   "execution_count": 20,
   "id": "ccb7f8d3",
   "metadata": {},
   "outputs": [],
   "source": [
    "def trip_duration_starts(df):\n",
    "    print('\\nCalculating trip Duration..\\n')\n",
    "    start_t=time.time()\n",
    "    \n",
    "    total_t_t=df['Trip Duration'].sum()\n",
    "    print('total travel time is:',total_t_t)\n",
    "    \n",
    "    mean_t_t=df['Trip Duration'].sum()\n",
    "    print('mean travel time is:',mean_t_t)\n",
    "    \n",
    "    print(\"\\nThis tool %s seconds.\"% (time.time() - start_t))\n",
    "    print(\"-\"*40)"
   ]
  },
  {
   "cell_type": "code",
   "execution_count": 21,
   "id": "51174655",
   "metadata": {},
   "outputs": [],
   "source": [
    "def user_stats(df,city):\n",
    "    print('\\nCalculating user stats..\\n')\n",
    "    start_t=time.time()\n",
    "    \n",
    "    print('user type in data are:', df['User Type'].value_counts())\n",
    "    \n",
    "    if city != 'washington':\n",
    "        print('counts of gender: ',df['Gender'].value_counts())\n",
    "        \n",
    "        earliest_y= df['Birth Year'].min()\n",
    "        print('earliest year is: ',  earliest_y)\n",
    "        \n",
    "        most_rec_year= df['Birth Year'].max()\n",
    "        print('most recent year is: ',   most_rec_year)\n",
    "        \n",
    "        most_comm_year= df['Birth Year'].mode()[0]\n",
    "        print('most common year is: ',   most_comm_year)\n",
    "        \n",
    "    print(\"\\nthis took %s seconds.\" % (time.time() - start_t))\n",
    "    print('_'*40)"
   ]
  },
  {
   "cell_type": "code",
   "execution_count": 22,
   "id": "4666e087",
   "metadata": {},
   "outputs": [],
   "source": [
    "def show_row_data(df):\n",
    "    row=0\n",
    "    while True:\n",
    "        view_r_data=input(\"would you like to see the raw data? 'yes' enter 'Y' and for 'no' enter 'N'.\\n\").lower()\n",
    "        if view_r_data == \"y\":\n",
    "            print(df.iloc[row : row + 6])\n",
    "            row += 6\n",
    "            \n",
    "        elif view_r_data == \"n\":\n",
    "            break\n",
    "        else:\n",
    "            print(\"sorry! you entered wrong input, try again\")\n",
    "                "
   ]
  },
  {
   "cell_type": "code",
   "execution_count": 24,
   "id": "10364894",
   "metadata": {},
   "outputs": [],
   "source": [
    "def GPA():\n",
    "    print(\"5 out of 5\")"
   ]
  },
  {
   "cell_type": "code",
   "execution_count": 25,
   "id": "5c951dbe",
   "metadata": {},
   "outputs": [],
   "source": [
    "def printinfo():\n",
    "    print(\"Elyas Maghrabi\")\n",
    "    print(\"data analyst\")"
   ]
  },
  {
   "cell_type": "code",
   "execution_count": 23,
   "id": "243b612f",
   "metadata": {},
   "outputs": [
    {
     "name": "stdout",
     "output_type": "stream",
     "text": [
      "hi let's explore some US bikeshare data!\n"
     ]
    },
    {
     "ename": "KeyboardInterrupt",
     "evalue": "Interrupted by user",
     "output_type": "error",
     "traceback": [
      "\u001b[0;31m---------------------------------------------------------------------------\u001b[0m",
      "\u001b[0;31mKeyboardInterrupt\u001b[0m                         Traceback (most recent call last)",
      "\u001b[0;32m/var/folders/g5/591y6m5j527b6t4pgpc8sg4m0000gn/T/ipykernel_16998/2165314997.py\u001b[0m in \u001b[0;36m<module>\u001b[0;34m\u001b[0m\n\u001b[1;32m     12\u001b[0m             \u001b[0;32mbreak\u001b[0m\u001b[0;34m\u001b[0m\u001b[0;34m\u001b[0m\u001b[0m\n\u001b[1;32m     13\u001b[0m \u001b[0;32mif\u001b[0m \u001b[0m__name__\u001b[0m\u001b[0;34m==\u001b[0m\u001b[0;34m'__main__'\u001b[0m\u001b[0;34m:\u001b[0m\u001b[0;34m\u001b[0m\u001b[0;34m\u001b[0m\u001b[0m\n\u001b[0;32m---> 14\u001b[0;31m     \u001b[0mmain\u001b[0m\u001b[0;34m(\u001b[0m\u001b[0;34m)\u001b[0m\u001b[0;34m\u001b[0m\u001b[0;34m\u001b[0m\u001b[0m\n\u001b[0m",
      "\u001b[0;32m/var/folders/g5/591y6m5j527b6t4pgpc8sg4m0000gn/T/ipykernel_16998/2165314997.py\u001b[0m in \u001b[0;36mmain\u001b[0;34m()\u001b[0m\n\u001b[1;32m      1\u001b[0m \u001b[0;32mdef\u001b[0m \u001b[0mmain\u001b[0m\u001b[0;34m(\u001b[0m\u001b[0;34m)\u001b[0m\u001b[0;34m:\u001b[0m\u001b[0;34m\u001b[0m\u001b[0;34m\u001b[0m\u001b[0m\n\u001b[1;32m      2\u001b[0m     \u001b[0;32mwhile\u001b[0m \u001b[0;32mTrue\u001b[0m\u001b[0;34m:\u001b[0m\u001b[0;34m\u001b[0m\u001b[0;34m\u001b[0m\u001b[0m\n\u001b[0;32m----> 3\u001b[0;31m         \u001b[0mcity\u001b[0m\u001b[0;34m,\u001b[0m\u001b[0mmonth\u001b[0m\u001b[0;34m,\u001b[0m\u001b[0mday\u001b[0m \u001b[0;34m=\u001b[0m \u001b[0mget_filters\u001b[0m\u001b[0;34m(\u001b[0m\u001b[0;34m)\u001b[0m\u001b[0;34m\u001b[0m\u001b[0;34m\u001b[0m\u001b[0m\n\u001b[0m\u001b[1;32m      4\u001b[0m         \u001b[0mdf\u001b[0m\u001b[0;34m=\u001b[0m\u001b[0mload_data\u001b[0m\u001b[0;34m(\u001b[0m\u001b[0mcity\u001b[0m\u001b[0;34m,\u001b[0m\u001b[0mmonth\u001b[0m\u001b[0;34m,\u001b[0m\u001b[0mday\u001b[0m\u001b[0;34m)\u001b[0m\u001b[0;34m\u001b[0m\u001b[0;34m\u001b[0m\u001b[0m\n\u001b[1;32m      5\u001b[0m         \u001b[0mtime_stats\u001b[0m\u001b[0;34m(\u001b[0m\u001b[0mdf\u001b[0m\u001b[0;34m)\u001b[0m\u001b[0;34m\u001b[0m\u001b[0;34m\u001b[0m\u001b[0m\n",
      "\u001b[0;32m/var/folders/g5/591y6m5j527b6t4pgpc8sg4m0000gn/T/ipykernel_16998/4032354249.py\u001b[0m in \u001b[0;36mget_filters\u001b[0;34m()\u001b[0m\n\u001b[1;32m      1\u001b[0m \u001b[0;32mdef\u001b[0m \u001b[0mget_filters\u001b[0m\u001b[0;34m(\u001b[0m\u001b[0;34m)\u001b[0m\u001b[0;34m:\u001b[0m\u001b[0;34m\u001b[0m\u001b[0;34m\u001b[0m\u001b[0m\n\u001b[1;32m      2\u001b[0m     \u001b[0mprint\u001b[0m\u001b[0;34m(\u001b[0m\u001b[0;34m'hi let\\'s explore some US bikeshare data!'\u001b[0m\u001b[0;34m)\u001b[0m\u001b[0;34m\u001b[0m\u001b[0;34m\u001b[0m\u001b[0m\n\u001b[0;32m----> 3\u001b[0;31m     \u001b[0mcity\u001b[0m\u001b[0;34m=\u001b[0m \u001b[0mcheck_userInput\u001b[0m\u001b[0;34m(\u001b[0m\u001b[0;34m'would you like to see the data for chicago, new york city or washington?\\n'\u001b[0m\u001b[0;34m,\u001b[0m\u001b[0;34m'c'\u001b[0m\u001b[0;34m)\u001b[0m\u001b[0;34m\u001b[0m\u001b[0;34m\u001b[0m\u001b[0m\n\u001b[0m\u001b[1;32m      4\u001b[0m     \u001b[0mmonth\u001b[0m\u001b[0;34m=\u001b[0m\u001b[0mcheck_userInput\u001b[0m\u001b[0;34m(\u001b[0m\u001b[0;34m\"For filtering data by specific month please enter month name from (january,february, march, april, may ,june) otherwise enter 'all'\\n \"\u001b[0m\u001b[0;34m,\u001b[0m\u001b[0;34m'm'\u001b[0m\u001b[0;34m)\u001b[0m\u001b[0;34m\u001b[0m\u001b[0;34m\u001b[0m\u001b[0m\n\u001b[1;32m      5\u001b[0m     \u001b[0mday\u001b[0m\u001b[0;34m=\u001b[0m\u001b[0mcheck_userInput\u001b[0m\u001b[0;34m(\u001b[0m\u001b[0;34m\"For filtering data by specific day please enter day name from ('sunday','monday','tuesday','wednesday','thursday','friday','satrurday') otherwise enter 'all'\\n \"\u001b[0m\u001b[0;34m,\u001b[0m\u001b[0;34m'd'\u001b[0m\u001b[0;34m)\u001b[0m\u001b[0;34m\u001b[0m\u001b[0;34m\u001b[0m\u001b[0m\n",
      "\u001b[0;32m/var/folders/g5/591y6m5j527b6t4pgpc8sg4m0000gn/T/ipykernel_16998/24525481.py\u001b[0m in \u001b[0;36mcheck_userInput\u001b[0;34m(user_input, input_type)\u001b[0m\n\u001b[1;32m      1\u001b[0m \u001b[0;32mdef\u001b[0m \u001b[0mcheck_userInput\u001b[0m\u001b[0;34m(\u001b[0m\u001b[0muser_input\u001b[0m\u001b[0;34m,\u001b[0m\u001b[0minput_type\u001b[0m\u001b[0;34m)\u001b[0m\u001b[0;34m:\u001b[0m\u001b[0;34m\u001b[0m\u001b[0;34m\u001b[0m\u001b[0m\n\u001b[1;32m      2\u001b[0m     \u001b[0;32mwhile\u001b[0m \u001b[0;32mTrue\u001b[0m\u001b[0;34m:\u001b[0m\u001b[0;34m\u001b[0m\u001b[0;34m\u001b[0m\u001b[0m\n\u001b[0;32m----> 3\u001b[0;31m             \u001b[0minput_user_entered\u001b[0m\u001b[0;34m=\u001b[0m\u001b[0minput\u001b[0m\u001b[0;34m(\u001b[0m\u001b[0muser_input\u001b[0m\u001b[0;34m)\u001b[0m\u001b[0;34m.\u001b[0m\u001b[0mlower\u001b[0m\u001b[0;34m(\u001b[0m\u001b[0;34m)\u001b[0m\u001b[0;34m\u001b[0m\u001b[0;34m\u001b[0m\u001b[0m\n\u001b[0m\u001b[1;32m      4\u001b[0m             \u001b[0;32mtry\u001b[0m\u001b[0;34m:\u001b[0m\u001b[0;34m\u001b[0m\u001b[0;34m\u001b[0m\u001b[0m\n\u001b[1;32m      5\u001b[0m                 \u001b[0;32mif\u001b[0m \u001b[0minput_user_entered\u001b[0m \u001b[0;32min\u001b[0m \u001b[0;34m[\u001b[0m\u001b[0;34m'chicago'\u001b[0m\u001b[0;34m,\u001b[0m\u001b[0;34m'new york city'\u001b[0m\u001b[0;34m,\u001b[0m\u001b[0;34m'washington'\u001b[0m\u001b[0;34m]\u001b[0m \u001b[0;32mand\u001b[0m \u001b[0minput_type\u001b[0m \u001b[0;34m==\u001b[0m \u001b[0;34m'c'\u001b[0m\u001b[0;34m:\u001b[0m\u001b[0;34m\u001b[0m\u001b[0;34m\u001b[0m\u001b[0m\n",
      "\u001b[0;32m~/opt/anaconda3/lib/python3.9/site-packages/ipykernel/kernelbase.py\u001b[0m in \u001b[0;36mraw_input\u001b[0;34m(self, prompt)\u001b[0m\n\u001b[1;32m   1175\u001b[0m                 \u001b[0;34m\"raw_input was called, but this frontend does not support input requests.\"\u001b[0m\u001b[0;34m\u001b[0m\u001b[0;34m\u001b[0m\u001b[0m\n\u001b[1;32m   1176\u001b[0m             )\n\u001b[0;32m-> 1177\u001b[0;31m         return self._input_request(\n\u001b[0m\u001b[1;32m   1178\u001b[0m             \u001b[0mstr\u001b[0m\u001b[0;34m(\u001b[0m\u001b[0mprompt\u001b[0m\u001b[0;34m)\u001b[0m\u001b[0;34m,\u001b[0m\u001b[0;34m\u001b[0m\u001b[0;34m\u001b[0m\u001b[0m\n\u001b[1;32m   1179\u001b[0m             \u001b[0mself\u001b[0m\u001b[0;34m.\u001b[0m\u001b[0m_parent_ident\u001b[0m\u001b[0;34m[\u001b[0m\u001b[0;34m\"shell\"\u001b[0m\u001b[0;34m]\u001b[0m\u001b[0;34m,\u001b[0m\u001b[0;34m\u001b[0m\u001b[0;34m\u001b[0m\u001b[0m\n",
      "\u001b[0;32m~/opt/anaconda3/lib/python3.9/site-packages/ipykernel/kernelbase.py\u001b[0m in \u001b[0;36m_input_request\u001b[0;34m(self, prompt, ident, parent, password)\u001b[0m\n\u001b[1;32m   1217\u001b[0m             \u001b[0;32mexcept\u001b[0m \u001b[0mKeyboardInterrupt\u001b[0m\u001b[0;34m:\u001b[0m\u001b[0;34m\u001b[0m\u001b[0;34m\u001b[0m\u001b[0m\n\u001b[1;32m   1218\u001b[0m                 \u001b[0;31m# re-raise KeyboardInterrupt, to truncate traceback\u001b[0m\u001b[0;34m\u001b[0m\u001b[0;34m\u001b[0m\u001b[0m\n\u001b[0;32m-> 1219\u001b[0;31m                 \u001b[0;32mraise\u001b[0m \u001b[0mKeyboardInterrupt\u001b[0m\u001b[0;34m(\u001b[0m\u001b[0;34m\"Interrupted by user\"\u001b[0m\u001b[0;34m)\u001b[0m \u001b[0;32mfrom\u001b[0m \u001b[0;32mNone\u001b[0m\u001b[0;34m\u001b[0m\u001b[0;34m\u001b[0m\u001b[0m\n\u001b[0m\u001b[1;32m   1220\u001b[0m             \u001b[0;32mexcept\u001b[0m \u001b[0mException\u001b[0m\u001b[0;34m:\u001b[0m\u001b[0;34m\u001b[0m\u001b[0;34m\u001b[0m\u001b[0m\n\u001b[1;32m   1221\u001b[0m                 \u001b[0mself\u001b[0m\u001b[0;34m.\u001b[0m\u001b[0mlog\u001b[0m\u001b[0;34m.\u001b[0m\u001b[0mwarning\u001b[0m\u001b[0;34m(\u001b[0m\u001b[0;34m\"Invalid Message:\"\u001b[0m\u001b[0;34m,\u001b[0m \u001b[0mexc_info\u001b[0m\u001b[0;34m=\u001b[0m\u001b[0;32mTrue\u001b[0m\u001b[0;34m)\u001b[0m\u001b[0;34m\u001b[0m\u001b[0;34m\u001b[0m\u001b[0m\n",
      "\u001b[0;31mKeyboardInterrupt\u001b[0m: Interrupted by user"
     ]
    }
   ],
   "source": [
    "def main():\n",
    "    while True:\n",
    "        city,month,day = get_filters()\n",
    "        df=load_data(city,month,day)\n",
    "        time_stats(df)\n",
    "        station_stats(df)\n",
    "        trip_duration_starts(df)\n",
    "        user_stats(df,city)\n",
    "        show_row_data(df)\n",
    "        restart = input(\"\\nwould you like to rest? enter 'y' or 'n'. \\n\").lower()\n",
    "        if restart.lower() != 'y':\n",
    "            break\n",
    "if __name__=='__main__':\n",
    "    main()"
   ]
  },
  {
   "cell_type": "code",
   "execution_count": null,
   "id": "a3fa3e24",
   "metadata": {},
   "outputs": [],
   "source": []
  },
  {
   "cell_type": "code",
   "execution_count": null,
   "id": "8d1578e8",
   "metadata": {},
   "outputs": [],
   "source": []
  }
 ],
 "metadata": {
  "kernelspec": {
   "display_name": "Python 3 (ipykernel)",
   "language": "python",
   "name": "python3"
  },
  "language_info": {
   "codemirror_mode": {
    "name": "ipython",
    "version": 3
   },
   "file_extension": ".py",
   "mimetype": "text/x-python",
   "name": "python",
   "nbconvert_exporter": "python",
   "pygments_lexer": "ipython3",
   "version": "3.9.13"
  }
 },
 "nbformat": 4,
 "nbformat_minor": 5
}
